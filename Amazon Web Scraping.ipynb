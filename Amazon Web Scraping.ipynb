{
 "cells": [
  {
   "cell_type": "code",
   "execution_count": 2,
   "metadata": {},
   "outputs": [],
   "source": [
    "#import libraries\n",
    "\n",
    "from bs4 import BeautifulSoup\n",
    "import requests\n",
    "import time\n",
    "import datetime\n",
    "\n",
    "import smtplib"
   ]
  },
  {
   "cell_type": "code",
   "execution_count": 32,
   "metadata": {},
   "outputs": [
    {
     "name": "stdout",
     "output_type": "stream",
     "text": [
      "Intelligent Change - The Five Minute Journal, Original Daily Gratitude & Reflection Journal, Manifestation Journal for Mindfulness, Undated Daily Journal, Plastic-Free, White\n",
      "28.99\n"
     ]
    }
   ],
   "source": [
    "#Connect website\n",
    "\n",
    "URL = 'https://www.amazon.com/Intelligent-Change-Mindfulness-Reflection-Affirmations/dp/0991846206/ref=sr_1_5?crid=300BNKY1DFBNL&keywords=5%2Bminute%2Bjournal&qid=1666650790&qu=eyJxc2MiOiIzLjA3IiwicXNhIjoiMi44MSIsInFzcCI6IjIuNzkifQ%3D%3D&sprefix=5%2Bminut%2Caps%2C93&sr=8-5&th=1'\n",
    "\n",
    "headers = {\"User-Agent\": \"Mozilla/5.0 (Windows NT 10.0; Win64; x64) AppleWebKit/537.36 (KHTML, like Gecko) Chrome/106.0.0.0 Safari/537.36\",\n",
    "\"Accept-Encoding\":\"gzip, deflate\", \"Accept\":\"text/html,application/xhtml+xml,application/xml;q=0.9,*/*;q=0.8\", \"DNT\":\"1\",\"Connection\":\"close\", \"Upgrade-Insecure-Requests\":\"1\"}\n",
    "\n",
    "page = requests.get(URL, headers=headers)\n",
    "\n",
    "soup1 = BeautifulSoup(page.content, \"html.parser\")\n",
    "\n",
    "soup2 = BeautifulSoup(soup1.prettify(), \"html.parser\")\n",
    "\n",
    "title = soup2.find(id = 'productTitle').get_text()\n",
    "\n",
    "price = soup2.find('span', {'id': 'tp_price_block_total_price_ww'}).get_text()\n",
    "\n",
    "price = price.strip()[1:].partition(\"\\n\")[0]\n",
    "title = title.strip()\n",
    "\n",
    "print(title)\n",
    "print(price)\n"
   ]
  },
  {
   "cell_type": "code",
   "execution_count": 36,
   "metadata": {},
   "outputs": [
    {
     "name": "stdout",
     "output_type": "stream",
     "text": [
      "2022-10-24\n"
     ]
    }
   ],
   "source": [
    "import datetime\n",
    "\n",
    "today = datetime.date.today()\n",
    "\n",
    "print(today)"
   ]
  },
  {
   "cell_type": "code",
   "execution_count": 38,
   "metadata": {},
   "outputs": [],
   "source": [
    "import csv\n",
    "\n",
    "header = ['Title', 'Price', 'Date']\n",
    "data = [title, price, today]\n",
    "\n",
    "with open('AmazonData.csv', 'w', newline='', encoding='UTF8') as f:\n",
    "    writer = csv.writer(f)\n",
    "    writer.writerow(header)\n",
    "    writer.writerow(data)"
   ]
  },
  {
   "cell_type": "code",
   "execution_count": 44,
   "metadata": {},
   "outputs": [
    {
     "name": "stdout",
     "output_type": "stream",
     "text": [
      "                                               Title  Price        Date\n",
      "0  Intelligent Change - The Five Minute Journal, ...  28.99  2022-10-24\n",
      "1  Intelligent Change - The Five Minute Journal, ...  28.99  2022-10-24\n",
      "2  Intelligent Change - The Five Minute Journal, ...  28.99  2022-10-24\n",
      "3  Intelligent Change - The Five Minute Journal, ...  28.99  2022-10-24\n",
      "4  Intelligent Change - The Five Minute Journal, ...  28.99  2022-10-24\n"
     ]
    }
   ],
   "source": [
    "import pandas as pd\n",
    "\n",
    "df = pd.read_csv(r'C:\\Users\\HP\\AmazonData.csv')\n",
    "\n",
    "print(df)"
   ]
  },
  {
   "cell_type": "code",
   "execution_count": 43,
   "metadata": {},
   "outputs": [],
   "source": [
    "with open('AmazonData.csv', 'a+', newline='', encoding='UTF8') as f:\n",
    "    writer = csv.writer(f)\n",
    "    writer.writerow(data)"
   ]
  },
  {
   "cell_type": "code",
   "execution_count": 45,
   "metadata": {},
   "outputs": [],
   "source": [
    "\n",
    "def check_price():\n",
    "    URL = 'https://www.amazon.com/Intelligent-Change-Mindfulness-Reflection-Affirmations/dp/0991846206/ref=sr_1_5?crid=300BNKY1DFBNL&keywords=5%2Bminute%2Bjournal&qid=1666650790&qu=eyJxc2MiOiIzLjA3IiwicXNhIjoiMi44MSIsInFzcCI6IjIuNzkifQ%3D%3D&sprefix=5%2Bminut%2Caps%2C93&sr=8-5&th=1'\n",
    "\n",
    "    headers = {\"User-Agent\": \"Mozilla/5.0 (Windows NT 10.0; Win64; x64) AppleWebKit/537.36 (KHTML, like Gecko) Chrome/106.0.0.0 Safari/537.36\",\n",
    "    \"Accept-Encoding\":\"gzip, deflate\", \"Accept\":\"text/html,application/xhtml+xml,application/xml;q=0.9,*/*;q=0.8\", \"DNT\":\"1\",\"Connection\":\"close\", \"Upgrade-Insecure-Requests\":\"1\"}\n",
    "\n",
    "    page = requests.get(URL, headers=headers)\n",
    "\n",
    "    soup1 = BeautifulSoup(page.content, \"html.parser\")\n",
    "\n",
    "    soup2 = BeautifulSoup(soup1.prettify(), \"html.parser\")\n",
    "\n",
    "    title = soup2.find(id = 'productTitle').get_text()\n",
    "\n",
    "    price = soup2.find('span', {'id': 'tp_price_block_total_price_ww'}).get_text()\n",
    "\n",
    "    price = price.strip()[1:].partition(\"\\n\")[0]\n",
    "    title = title.strip()\n",
    "    \n",
    "    import datetime\n",
    "    \n",
    "    today = datetime.date.today()\n",
    "    \n",
    "    import csv\n",
    "    \n",
    "    header = ['Title', 'Price', 'Date']\n",
    "    data = [title, price, today]\n",
    "\n",
    "    with open('AmazonData.csv', 'a+', newline='', encoding='UTF8') as f:\n",
    "        writer = csv.writer(f)\n",
    "        writer.writerow(data)\n",
    "    \n",
    "    \n",
    "    "
   ]
  },
  {
   "cell_type": "code",
   "execution_count": null,
   "metadata": {},
   "outputs": [],
   "source": [
    "while(True):\n",
    "    check_price()\n",
    "    time.sleep(86400)"
   ]
  },
  {
   "cell_type": "code",
   "execution_count": null,
   "metadata": {},
   "outputs": [],
   "source": [
    "import pandas as pd\n",
    "\n",
    "df = pd.read_csv(r'C:\\Users\\HP\\AmazonData.csv')\n",
    "\n",
    "print(df)\n"
   ]
  },
  {
   "cell_type": "code",
   "execution_count": null,
   "metadata": {},
   "outputs": [],
   "source": []
  }
 ],
 "metadata": {
  "kernelspec": {
   "display_name": "Python 3",
   "language": "python",
   "name": "python3"
  },
  "language_info": {
   "codemirror_mode": {
    "name": "ipython",
    "version": 3
   },
   "file_extension": ".py",
   "mimetype": "text/x-python",
   "name": "python",
   "nbconvert_exporter": "python",
   "pygments_lexer": "ipython3",
   "version": "3.7.6"
  }
 },
 "nbformat": 4,
 "nbformat_minor": 4
}
